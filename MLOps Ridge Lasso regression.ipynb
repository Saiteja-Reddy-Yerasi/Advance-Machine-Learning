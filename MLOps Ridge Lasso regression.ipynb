{
 "cells": [
  {
   "cell_type": "markdown",
   "metadata": {
    "id": "TWWU_gOSLEEv"
   },
   "source": [
    "# Question 1: MLOps (10 pts)\n",
    "Read this [article](https://towardsdatascience.com/what-is-mlops-everything-you-must-know-to-get-started-523f2d0b8bd8) \"What is MLOps — Everything You Must Know to Get Started\", which gives a quick walkthrough of the machine learning development lifecycle and explains how MLOps come into play, or watch this [video](https://www.youtube.com/watch?v=06-AZXmwHjo) which you may find interesting.\n",
    "\n",
    "1. (**4 pts**) Use your own words to describe what MLOps is, and what challenges MLOps address. Limit your answer to one paragraph.\n",
    "\n",
    "2. (**6 pts**) Describe what the main phases in MLOps are. Your answer should be 2-3 paragraphs.\n",
    "\n",
    "\n",
    "## Answer:"
   ]
  },
  {
   "cell_type": "markdown",
   "metadata": {},
   "source": [
    "1. We are at a stage where ML is incorporated in every organization and its products. This requires a business scale development and deployment of ML systems in a reliable and efficient way. MLOps is the engineering discipline that aims to provide the solution to this requirement by streamlining the entire cycle, standardizing the processes and procedures, where possible to make it scalable. This multi-disciplinary nature helps to meet the shortage of data scientists who can develop and deploy scalable applications, addresses the communication gap arising due to difference in technical and business knowledge among various teams involved in this system development, be able to adapt quickly to the changing business objectives in an efficient and structured manner and provides the framework for continuous risk assessment to check the deviation of the model from the intended objectives. This is aiming to mirror the software development life cycle (SDLC) which has matured with time.\n",
    "\n",
    "\n",
    "2. There are seven major phases in MLOps cycle. The first process involves setting up ML problem from business objectives such as performance measures, KPI, budget etc. The second process involves architecting ML and data solutions by finding relevant dataset, check the credibility of the source, type of source such as static or real time, whether multiple sources are required or not, how to build data pipeline that can be used for training and for deployment during production.\n",
    "    \n",
    "    The third process involves data preprocessing by formatting, treating outliers, missing values, scaling etc. and all these methods are to be built into pipeline to provide clean data to the fourth process: model training and experimentation. It involves trying out various models of complexity, interpretability, feature selection in terms of performance measures such as MSE, accuracy, recall etc. and reproducibility is an important requirement. To quicken this stage, distributed systems or hardware accelerators can be used.\n",
    "    \n",
    "    In the fifth process, solution/model developed above is to be built into ML pipeline, which requires identifying the system requirements such as computing power, appropriate cloud architecture etc. Then the training and testing pipelines are developed and methods to track and audit these pipelines are to be built into it. Next, it is deployed in the production either static or dynamically on server or container or serverless. At this stage, documentation, model accuracy, explainability, load usage, governance requirements must be revalidated and had to be complied. Lastly, this deployed model is to be monitored, maintained and optimized by checking the degradation of the quality of the model, trouble shooting, continuous evaluation and tuning the training and testing pipelines based on the requirements.\n"
   ]
  },
  {
   "cell_type": "markdown",
   "metadata": {
    "id": "wusA9L1LmUMH"
   },
   "source": [
    "# Question 2: Applications of Machine Learning (5 pts)\n",
    "Read this [article](https://builtin.com/data-science/data-science-applications-examples) \"17 Data Science Applications & Examples\" and pick one of the data science systems used by various organizations according to this blog. \n",
    "\n",
    "For this system you have chosen, answer the following questions. Please limit your answer to one paragraph:\n",
    "\n",
    "1. What kind of machine learning problem is involved (e.g. classification, regression, clustering, outlier detection,...) in this system?\n",
    "2. Speculate on what kind of data may be needed and how the results can be useful to the organization.\n",
    "3. What do you think are the ethical implications of using machine learning in a domain like this?\n",
    "\n",
    "## Answer:"
   ]
  },
  {
   "cell_type": "markdown",
   "metadata": {},
   "source": [
    "Tinder: The Algorithmic Matchmaker\n",
    "\n",
    "A user creates a profile on the application by entering personal details which is used to show various users who he/she might like for dating. This involves clustering algorithm used to cluster the users into various categories and there is a high likelihood of user matching within these clusters. The data for the model can be three types of data; relatively more static data such as age, university, passions/hobbies; dynamic data such as user location, profile description, images uploaded; system generated data such as attractiveness (based on number of people that have swiped right), activeness (how long the user is online), participativeness (number in terms of messages and users) etc. Based on this, each user is shown the people where there is high probability of match which makes the user to use the application frequently which might bring more users to the application. The number of users and the amount of time spent on these applications brings the revenue to these organizations through advertising. Further, with the option of buying the premium account, the user is given much more flexibility in the number of swipes in day, locations radius and the user profile is shown to more users or since the user’s time on the app is low, the premium user will be shown earlier as well thereby increasing the possibility of more matches. There are many ethical implications such as racial stereotyping based on attractiveness where one race of users who get more left swipes are considered less attractive perpetuating this ugly stereotype, beauty is in the eyes of beholder, there is less importance on personality and character which are paramount and focused more on quantitative details such as age, height, distance, making the matchmaking more superficial and materialistic instead of searching for life partner. While the endeavor to bring more people on the app to expand the scope of dating pool is indeed a good objective, but the models must be trained to overlook the entrenched stereotypes, superficialism etc."
   ]
  },
  {
   "cell_type": "markdown",
   "metadata": {
    "id": "2w8za9lLmVO7"
   },
   "source": [
    "# Question 3: Simpson's Paradox (10 pts)\n",
    "A data scientist should be careful about drawing unwarranted conclusions about any data that is presented. One of the 'gotchas' that can happen even in apparently very simple tabular summaries, is called Simpson's paradox.\n",
    "\n",
    "Read this [article](https://www.covid-datascience.com/post/israeli-data-how-can-efficacy-vs-severe-disease-be-strong-when-60-of-hospitalized-are-vaccinated), which explains why the computed efficacy of the Pfizer vaccine is misleadingly low (67.5%) when you lump all people together, but once you stratify people by age (which is the right thing to do), you get much higher efficacy numbers.\n",
    "\n",
    "1.(**5 pts**) Explain in your own words what Simpson's paradox is, and how this 'paradox' can happen in real data.\n",
    "\n",
    "2.(**5 pts**) Find and mention another example of Simpson's paradox (but not any of the 3 examples given in the Wikipedia entry for 'Simpson's paradox'), state why the paradox appeared in your chosen example. Also give a reference (URL) to your source for the chosen example.\n",
    "\n",
    "## Answer:"
   ]
  },
  {
   "cell_type": "markdown",
   "metadata": {},
   "source": [
    "Ans 1) \n",
    "\n",
    "Simpson's paradox is defined as : a trend which is observed in an aggregated dataset can disappear or completely reverse the original trend when dataset is split into multiple groups. In other terms, a relation between two variables x and y can change its trend when there is a confounding or variable variable z. \n",
    "\n",
    "Simpson's paradox can be observed in real data when there is a distinguishing factor like age, complexity within 2 groups in the dataset. For example, in the Israeli covid data, both dosage and recovery probability were systematically higher in one group (younger) and lower in the other group (older). This resulted in a completely different trend when looked at data altogether and when looked at two different age groups with age being the confounding variable  "
   ]
  },
  {
   "cell_type": "markdown",
   "metadata": {},
   "source": [
    "Ans 2) \n",
    "\n",
    "Reference article: https://towardsdatascience.com/simpsons-paradox-how-to-prove-two-opposite-arguments-using-one-dataset-1c9c917f5ff9\n",
    "\n",
    "While looking at combined data on the number of hours of exercise per week versus the risk of developing a disease for two sets of patients, those below the age of 50 and those over the age of 50 and plotting a regression line says that there is a positive correlation between the number of exercise hours and probability of disease i.e if you exercise for longer hours, you are more probable to fall sick. When you look at the trends group wise i.e age groups of below 50 and above 50 we can see that there is a negative correlation in the 2 groups when looked individually i.e if you exercise for longer hours, you are less probable to fall sick. This is an example of simpson's paradox with age being the confounding variable\n"
   ]
  },
  {
   "cell_type": "markdown",
   "metadata": {
    "id": "gth0D8jiMBSe"
   },
   "source": [
    "# Question 4: Ridge and Lasso Regression (30 pts)\n",
    "\n",
    "Download the dataset **Admission.csv** from Canvas and use the following codes to import the Admission dataset in Python. \n",
    "\n",
    "There are 7 features in the dataset:\n",
    "\n",
    "1. GRE score\n",
    "2. TOEFL score\n",
    "3. University Rating\n",
    "4. SOP(Statement of Purpose)\n",
    "5. LOR(Letter of Recommendation)\n",
    "6. CGPA\n",
    "7. Research\n",
    "\n",
    "And the target is **Chance of Admission**."
   ]
  },
  {
   "cell_type": "code",
   "execution_count": null,
   "metadata": {
    "id": "QFazlpLgGpAa"
   },
   "outputs": [],
   "source": [
    "# Only use this code block if you are using Google Colab.\n",
    "# If you are using Jupyter Notebook, please ignore this code block. You can directly upload the file to your Jupyter Notebook file systems.\n",
    "from google.colab import files\n",
    "\n",
    "## It will prompt you to select a local file. Click on “Choose Files” then select and upload the file. \n",
    "## Wait for the file to be 100% uploaded. You should see the name of the file once Colab has uploaded it.\n",
    "uploaded = files.upload()"
   ]
  },
  {
   "cell_type": "code",
   "execution_count": 62,
   "metadata": {
    "id": "xsPaOOehGuU6"
   },
   "outputs": [],
   "source": [
    "# Codes below will work for both Google Colab and Jupyter Notebook.\n",
    "import numpy as np\n",
    "import pandas as pd\n",
    "import random\n",
    "from sklearn import linear_model\n",
    "from sklearn.metrics import mean_absolute_error, mean_squared_error\n",
    "from sklearn.linear_model import LinearRegression\n",
    "\n",
    "## Load the dataset into pandas DataFrame\n",
    "df = pd.read_csv('Admission.csv', index_col=0)\n",
    "df = df.replace([np.inf, -np.inf], np.nan) # \n",
    "df = df.fillna(0) # Replace all the NaN values with 0"
   ]
  },
  {
   "cell_type": "code",
   "execution_count": 63,
   "metadata": {
    "id": "PmMz72U6Gv-z"
   },
   "outputs": [
    {
     "data": {
      "text/plain": [
       "Index(['GRE_Score', 'TOEFL_Score', 'University_Rating', 'SOP', 'LOR ', 'CGPA',\n",
       "       'Research', 'Chance_of_Admit'],\n",
       "      dtype='object')"
      ]
     },
     "execution_count": 63,
     "metadata": {},
     "output_type": "execute_result"
    }
   ],
   "source": [
    "df.columns # Show you all the columns in this file"
   ]
  },
  {
   "cell_type": "code",
   "execution_count": 64,
   "metadata": {
    "id": "CyZN-yFfGxlt"
   },
   "outputs": [
    {
     "data": {
      "text/html": [
       "<div>\n",
       "<style scoped>\n",
       "    .dataframe tbody tr th:only-of-type {\n",
       "        vertical-align: middle;\n",
       "    }\n",
       "\n",
       "    .dataframe tbody tr th {\n",
       "        vertical-align: top;\n",
       "    }\n",
       "\n",
       "    .dataframe thead th {\n",
       "        text-align: right;\n",
       "    }\n",
       "</style>\n",
       "<table border=\"1\" class=\"dataframe\">\n",
       "  <thead>\n",
       "    <tr style=\"text-align: right;\">\n",
       "      <th></th>\n",
       "      <th>GRE_Score</th>\n",
       "      <th>TOEFL_Score</th>\n",
       "      <th>University_Rating</th>\n",
       "      <th>SOP</th>\n",
       "      <th>LOR</th>\n",
       "      <th>CGPA</th>\n",
       "      <th>Research</th>\n",
       "      <th>Chance_of_Admit</th>\n",
       "    </tr>\n",
       "    <tr>\n",
       "      <th>Serial No.</th>\n",
       "      <th></th>\n",
       "      <th></th>\n",
       "      <th></th>\n",
       "      <th></th>\n",
       "      <th></th>\n",
       "      <th></th>\n",
       "      <th></th>\n",
       "      <th></th>\n",
       "    </tr>\n",
       "  </thead>\n",
       "  <tbody>\n",
       "    <tr>\n",
       "      <th>1</th>\n",
       "      <td>337</td>\n",
       "      <td>118</td>\n",
       "      <td>4</td>\n",
       "      <td>4.5</td>\n",
       "      <td>4.5</td>\n",
       "      <td>9.65</td>\n",
       "      <td>1</td>\n",
       "      <td>0.92</td>\n",
       "    </tr>\n",
       "    <tr>\n",
       "      <th>2</th>\n",
       "      <td>324</td>\n",
       "      <td>107</td>\n",
       "      <td>4</td>\n",
       "      <td>4.0</td>\n",
       "      <td>4.5</td>\n",
       "      <td>8.87</td>\n",
       "      <td>1</td>\n",
       "      <td>0.76</td>\n",
       "    </tr>\n",
       "    <tr>\n",
       "      <th>3</th>\n",
       "      <td>316</td>\n",
       "      <td>104</td>\n",
       "      <td>3</td>\n",
       "      <td>3.0</td>\n",
       "      <td>3.5</td>\n",
       "      <td>8.00</td>\n",
       "      <td>1</td>\n",
       "      <td>0.72</td>\n",
       "    </tr>\n",
       "    <tr>\n",
       "      <th>4</th>\n",
       "      <td>322</td>\n",
       "      <td>110</td>\n",
       "      <td>3</td>\n",
       "      <td>3.5</td>\n",
       "      <td>2.5</td>\n",
       "      <td>8.67</td>\n",
       "      <td>1</td>\n",
       "      <td>0.80</td>\n",
       "    </tr>\n",
       "    <tr>\n",
       "      <th>5</th>\n",
       "      <td>314</td>\n",
       "      <td>103</td>\n",
       "      <td>2</td>\n",
       "      <td>2.0</td>\n",
       "      <td>3.0</td>\n",
       "      <td>8.21</td>\n",
       "      <td>0</td>\n",
       "      <td>0.65</td>\n",
       "    </tr>\n",
       "  </tbody>\n",
       "</table>\n",
       "</div>"
      ],
      "text/plain": [
       "            GRE_Score  TOEFL_Score  University_Rating  SOP  LOR   CGPA  \\\n",
       "Serial No.                                                               \n",
       "1                 337          118                  4  4.5   4.5  9.65   \n",
       "2                 324          107                  4  4.0   4.5  8.87   \n",
       "3                 316          104                  3  3.0   3.5  8.00   \n",
       "4                 322          110                  3  3.5   2.5  8.67   \n",
       "5                 314          103                  2  2.0   3.0  8.21   \n",
       "\n",
       "            Research  Chance_of_Admit  \n",
       "Serial No.                             \n",
       "1                  1             0.92  \n",
       "2                  1             0.76  \n",
       "3                  1             0.72  \n",
       "4                  1             0.80  \n",
       "5                  0             0.65  "
      ]
     },
     "execution_count": 64,
     "metadata": {},
     "output_type": "execute_result"
    }
   ],
   "source": [
    "df.head() # Show you the first 5 rows in this file"
   ]
  },
  {
   "cell_type": "code",
   "execution_count": 65,
   "metadata": {
    "id": "S3TfR0i4G2rO"
   },
   "outputs": [],
   "source": [
    "y = df['Chance_of_Admit'] # The column named Chance_of_Admit is used as the target, and we store it in y\n",
    "X = df.drop(['Chance_of_Admit'], axis=1) # We keep the remaining columns as the features, and store them in x"
   ]
  },
  {
   "cell_type": "markdown",
   "metadata": {},
   "source": [
    "1)(**2 pts**) Split the data into a training set(75% of data) and a test set(25% of data), using the [train_test_split](https://scikit-learn.org/stable/modules/generated/sklearn.model_selection.train_test_split.html) function with random_state = 50. Then scale the data (not including target) so that each of the independent variables would have zero mean and unit variance. You can use the [sklearn.preprocessing.scale](https://scikit-learn.org/stable/modules/generated/sklearn.preprocessing.scale.html) function for this. Print the first 5 rows of the training set after scaling."
   ]
  },
  {
   "cell_type": "code",
   "execution_count": 66,
   "metadata": {},
   "outputs": [
    {
     "data": {
      "text/plain": [
       "array([[ 1.52725374,  2.0917706 ,  1.61594354,  0.63150829,  1.72829095,\n",
       "         2.11370277,  0.90453403],\n",
       "       [ 0.74180896,  0.46308859, -0.9310778 , -0.35266047, -1.04140609,\n",
       "         0.29488827,  0.90453403],\n",
       "       [ 0.56726568,  0.13735218,  1.61594354,  0.63150829,  0.62041214,\n",
       "         0.26211684,  0.90453403],\n",
       "       [-0.39272239, -0.51412062, -0.08207069,  0.13942391,  0.62041214,\n",
       "        -0.80295471, -1.1055416 ],\n",
       "       [ 0.47999403,  0.78882499,  0.76693642,  1.12359267,  1.17435154,\n",
       "         1.11417408,  0.90453403]])"
      ]
     },
     "execution_count": 66,
     "metadata": {},
     "output_type": "execute_result"
    }
   ],
   "source": [
    "from sklearn.model_selection import train_test_split\n",
    "from sklearn import preprocessing \n",
    "\n",
    "X_train, X_test, y_train, y_test = train_test_split(X, y, test_size=0.25, random_state=50)\n",
    "X_train = preprocessing.scale(X_train, with_mean=True, with_std=True)\n",
    "X_test = preprocessing.scale(X_test, with_mean=True, with_std=True)\n",
    "X_train[0:5]"
   ]
  },
  {
   "cell_type": "markdown",
   "metadata": {},
   "source": [
    "2)(**5 pts**) Use [sklearn.linear_model.Lasso](https://scikit-learn.org/stable/modules/generated/sklearn.linear_model.Lasso.html) and [sklearn.linear_model.Ridge](https://scikit-learn.org/stable/modules/generated/sklearn.linear_model.Ridge.html) classes to do a **5-fold** cross validation using sklearn's KFold. For the sweep of the regularization parameter, we will look at a grid of values ranging from α=10^10 to α=10^−6. In Python, you can consider this range of values as follows: alpha = 10**numpy.linspace(6,-6,100) \n",
    "so that you can generate 100 uniform values between -6 to 6 as power series.\n",
    "\n",
    "Fit the 2 regression models with scaled data and report the best chosen **α** based on cross validation as well as the corresponding scoring metric. The cross validation should happen on your training data using **MSE** as the scoring metric."
   ]
  },
  {
   "cell_type": "code",
   "execution_count": 67,
   "metadata": {},
   "outputs": [
    {
     "name": "stdout",
     "output_type": "stream",
     "text": [
      "The best alpha based on Cross validation for Lasso Regression is 0.001072267222010321 and the corresponding MSE is 0.00409842531805538\n",
      "The best alpha based on Cross validation for Ridge Regression is 4.641588833612772 and the corresponding MSE is 0.00411801388424071\n"
     ]
    }
   ],
   "source": [
    "from sklearn.model_selection import KFold\n",
    "from sklearn.metrics import mean_squared_error\n",
    "\n",
    "alpha = 10**np.linspace(6,-6,100)\n",
    "msescoresLasso=[]\n",
    "msescoresRidge=[]\n",
    "\n",
    "for al in alpha:\n",
    "    lasso=linear_model.Lasso(alpha=al)\n",
    "    ridge=linear_model.Ridge(alpha=al)\n",
    "    cv = KFold(n_splits=5)\n",
    "\n",
    "    # evaluate model\n",
    "    y_train=np.array(y_train)\n",
    "    i=0\n",
    "    j=0\n",
    "    for train_index, test_index in cv.split(X_train):\n",
    "        X_train_cv, X_test_cv = X_train[train_index], X_train[test_index]\n",
    "        y_train_cv, y_test_cv = y_train[train_index], y_train[test_index]\n",
    "        lasso.fit(X_train_cv, y_train_cv)\n",
    "        preds = lasso.predict(X_test_cv)\n",
    "        i+=mean_squared_error(y_test_cv, preds)\n",
    "        ridge.fit(X_train_cv, y_train_cv)\n",
    "        preds = ridge.predict(X_test_cv)\n",
    "        j+=mean_squared_error(y_test_cv, preds)\n",
    "    msescoresLasso.append(i/5)\n",
    "    msescoresRidge.append(j/5)\n",
    "        \n",
    "\n",
    "minMSELasso=min(msescoresLasso)\n",
    "minAlphaLasso=alpha[msescoresLasso.index(minMSELasso)]\n",
    "print('The best alpha based on Cross validation for Lasso Regression is ' + str(minAlphaLasso)\\\n",
    "      +' and the corresponding MSE is '+ str(minMSELasso))\n",
    "\n",
    "minMSERidge=min(msescoresRidge)\n",
    "minAlphaRidge=alpha[msescoresRidge.index(minMSERidge)]\n",
    "print('The best alpha based on Cross validation for Ridge Regression is ' + str(minAlphaRidge) +\\\n",
    "      ' and the corresponding MSE is '+ str(minMSERidge))"
   ]
  },
  {
   "cell_type": "markdown",
   "metadata": {},
   "source": [
    "3)(**5 pts**) Run ridge and lasso regression for all of the **α** specified above (on training data), and plot the coefficients learned for each of them - there should be one plot each for lasso and ridge, so a total of two plots; different features' weights of each model should be on the same plot with different colors (3pts). \n",
    "\n",
    "What do you qualitatively observe when the value of the regularization parameter changes (2pts)? "
   ]
  },
  {
   "cell_type": "code",
   "execution_count": 68,
   "metadata": {},
   "outputs": [],
   "source": [
    "dfLasso=pd.DataFrame(index=alpha,columns=df.columns.values)\n",
    "dfRidge=pd.DataFrame(index=alpha,columns=df.columns.values)\n",
    "dfLasso=dfLasso.drop(['Chance_of_Admit'], axis=1)\n",
    "dfRidge=dfRidge.drop(['Chance_of_Admit'], axis=1)\n",
    "#dfLasso['Intercept']=0\n",
    "#dfRidge['Intercept']=0"
   ]
  },
  {
   "cell_type": "code",
   "execution_count": 69,
   "metadata": {},
   "outputs": [],
   "source": [
    "for al in alpha:\n",
    "    Lassomodel=linear_model.Lasso(al)\n",
    "    Lassomodel.fit(X_train, y_train)\n",
    "    dfLasso.loc[al][0:7]=Lassomodel.coef_\n",
    "    #dfLasso.loc[al][7]=Lassomodel.intercept_\n",
    "    \n",
    "    ridgemodel=linear_model.Ridge(al)\n",
    "    ridgemodel.fit(X_train, y_train)\n",
    "    dfRidge.loc[al][0:7]=ridgemodel.coef_\n",
    "    #dfRidge.loc[al][7]=ridgemodel.intercept_\n",
    "    \n"
   ]
  },
  {
   "cell_type": "code",
   "execution_count": 70,
   "metadata": {},
   "outputs": [
    {
     "data": {
      "image/png": "[encoded data removed]",
      "text/plain": [
       "<Figure size 432x288 with 1 Axes>"
      ]
     },
     "metadata": {
      "needs_background": "light"
     },
     "output_type": "display_data"
    }
   ],
   "source": [
    "import matplotlib.pyplot as plt\n",
    "ax = plt.gca()\n",
    "ax.plot(alpha, dfLasso)\n",
    "ax.set_xscale('log')\n",
    "plt.xlabel('alpha')\n",
    "plt.ylabel('weights of the features')\n",
    "plt.title('Coefficents of Lasso Regression Vs Regularization term')\n",
    "ax.legend(dfLasso.columns.values,loc='best')\n",
    "plt.show()"
   ]
  },
  {
   "cell_type": "code",
   "execution_count": 71,
   "metadata": {},
   "outputs": [
    {
     "data": {
      "image/png": "[encoded data removed]",
      "text/plain": [
       "<Figure size 432x288 with 1 Axes>"
      ]
     },
     "metadata": {
      "needs_background": "light"
     },
     "output_type": "display_data"
    }
   ],
   "source": [
    "import matplotlib.pyplot as plt\n",
    "ax = plt.gca()\n",
    "\n",
    "ax.plot(alpha, dfRidge)\n",
    "ax.set_xscale('log')\n",
    "plt.xlabel('alpha')\n",
    "plt.ylabel('weights of the features')\n",
    "plt.title('Coefficents of Ridge Regression Vs Regularization term')\n",
    "ax.legend(dfRidge.columns.values,loc='best')\n",
    "plt.show()"
   ]
  },
  {
   "cell_type": "markdown",
   "metadata": {},
   "source": [
    "In the lasso regression graph, we can see that as the alpha value increase, the coefficient values decrease.\n",
    "In the ridge regression graph, we observe that the coefficient value increase and then decrease. It appaears the coefficients of lasso may be non-increasing with the value of alpha.\n",
    "\n",
    "Further, the values fall steeply around the value of alpha 0.1 for lasso and 1000 for ridge regression. Coefficients for both of them converge to zero at higher values of aplha, but the point of convergenece is earlier for lasso."
   ]
  },
  {
   "cell_type": "markdown",
   "metadata": {},
   "source": [
    "4)(**3 pts**) Take the exponential of Y_train as the target, and fit the 2 regression models again. Report the best chosen **α** based on cross validation as well as the corresponding scoring metric. Compare the results of using the original target with the results of using the exponential of the target. What do you observe? "
   ]
  },
  {
   "cell_type": "code",
   "execution_count": 72,
   "metadata": {},
   "outputs": [
    {
     "name": "stdout",
     "output_type": "stream",
     "text": [
      "The best alpha based on Cross validation for Lasso Regression is 0.0018738174228603867 and the corresponding MSE is 0.014767319644229934\n",
      "The best alpha based on Cross validation for Ridge Regression is 6.135907273413176 and the corresponding MSE is 0.014815008775351052\n"
     ]
    }
   ],
   "source": [
    "import math\n",
    "msescoresLasso=[]\n",
    "msescoresRidge=[]\n",
    "for al in alpha:\n",
    "    lasso=linear_model.Lasso(al)\n",
    "    ridge=linear_model.Ridge(al)\n",
    "    cv = KFold(n_splits=5)\n",
    "# evaluate model\n",
    "    y_train=np.array(y_train)\n",
    "    y_train_exp=np.exp(y_train)\n",
    "    i=0\n",
    "    j=0\n",
    "    for train_index, test_index in cv.split(X_train):\n",
    "        X_train_cv, X_test_cv = X_train[train_index], X_train[test_index]\n",
    "        y_train_cv, y_test_cv = y_train_exp[train_index], y_train_exp[test_index]\n",
    "        lasso.fit(X_train_cv, y_train_cv)\n",
    "        preds = lasso.predict(X_test_cv)\n",
    "        i+=mean_squared_error(y_test_cv, preds)\n",
    "        ridge.fit(X_train_cv, y_train_cv)\n",
    "        preds = ridge.predict(X_test_cv)\n",
    "        j+=mean_squared_error(y_test_cv, preds)\n",
    "    msescoresLasso.append(i/5)\n",
    "    msescoresRidge.append(j/5)\n",
    "        \n",
    "\n",
    "minMSELasso=min(msescoresLasso)\n",
    "minAlphaLassoExp=alpha[msescoresLasso.index(minMSELasso)]\n",
    "print('The best alpha based on Cross validation for Lasso Regression is ' + str(minAlphaLassoExp)\\\n",
    "      +' and the corresponding MSE is '+ str(minMSELasso))\n",
    "\n",
    "minMSERidge=min(msescoresRidge)\n",
    "minAlphaRidgeExp=alpha[msescoresRidge.index(minMSERidge)]\n",
    "print('The best alpha based on Cross validation for Ridge Regression is ' + str(minAlphaRidgeExp) +\\\n",
    "      ' and the corresponding MSE is '+ str(minMSERidge))"
   ]
  },
  {
   "cell_type": "markdown",
   "metadata": {},
   "source": [
    "## Comparing original target  vs exponential of the target :\n",
    "\n",
    "While using the exponential value of the target, mse value is higher when compared to the original target in both Lasso and Ridge regression models "
   ]
  },
  {
   "cell_type": "markdown",
   "metadata": {},
   "source": [
    "\n",
    "5)(**5 pts**) Similarly, use [sklearn.linear_model.ElasticNet](https://scikit-learn.org/stable/modules/generated/sklearn.linear_model.ElasticNet.html) to do linear regression with different **α** values, and plot the coefficients learned for each of them (2pts). Observe the plot, then explain the pros and cons of ridge, lasso and Elastic Net models (3pts)."
   ]
  },
  {
   "cell_type": "code",
   "execution_count": 73,
   "metadata": {},
   "outputs": [
    {
     "data": {
      "image/png": "[encoded data removed]",
      "text/plain": [
       "<Figure size 432x288 with 1 Axes>"
      ]
     },
     "metadata": {
      "needs_background": "light"
     },
     "output_type": "display_data"
    }
   ],
   "source": [
    "dfEnet=pd.DataFrame(index=alpha,columns=df.columns.values)\n",
    "dfEnet=dfEnet.drop(['Chance_of_Admit'], axis=1)\n",
    "for al in alpha:\n",
    "    Enetmodel=linear_model.ElasticNet(al)\n",
    "    Enetmodel.fit(X_train, y_train)\n",
    "    dfEnet.loc[al][0:7]=Enetmodel.coef_\n",
    "    \n",
    "    \n",
    "ax = plt.gca()\n",
    "ax.plot(alpha, dfEnet)\n",
    "ax.set_xscale('log')\n",
    "plt.xlabel('alpha')\n",
    "plt.ylabel('weights of the features')\n",
    "plt.title('Coefficents of Elastic Net Vs Regularization term')\n",
    "ax.legend(dfEnet.columns.values,loc='best')\n",
    "plt.show()"
   ]
  },
  {
   "cell_type": "markdown",
   "metadata": {},
   "source": [
    "# Observations:\n",
    "\n",
    "From the graphs, lasso and elasticnet look similar to one other and ridge is quite different\n",
    "\n",
    "## Lasso regression :\n",
    "pros : This model uses absolute mean error and thus eliminates many variables by making their coefficients as zero. This helps in interpreting the model easily\n",
    "cons : lasso is not good with collinearity. It might randomly choose one of the multicollinear variables without understanding the context and might eliminate relevant independent variables.\n",
    "\n",
    "## Ridge regression : \n",
    "pros : When there is collinearity in the data, ridge model is helpful as it does not randomly eliminate one of these collinear variables \n",
    "cons : Ridge model does not eliminate coefficients even if the variables are irrelevant\n",
    "\n",
    "## Elastic net :\n",
    "pros : Elastic Net reduces the impact of different features while not eliminating all of the features which is a combination of lasso and ridge."
   ]
  },
  {
   "cell_type": "markdown",
   "metadata": {},
   "source": [
    "\n",
    "6)(**5 pts**) Run the following three regression models with **MSE** loss on the training data: \n",
    "\n",
    "a. linear regression without regularization (1pts)\n",
    "\n",
    "b. linear regression with ridge regularization (2pts)\n",
    "\n",
    "c. linear regression with lasso regularization (2pts)\n",
    "\n",
    "For part (b) and (c), use only the best regularization parameters. Report the MSE and R<sup>2</sup> on the test data for each model."
   ]
  },
  {
   "cell_type": "code",
   "execution_count": 74,
   "metadata": {},
   "outputs": [
    {
     "name": "stdout",
     "output_type": "stream",
     "text": [
      "For Linear Regression without regularization\n",
      "MSE is 0.005200215496311308\n",
      "R2 score is 0.6910288907914793\n",
      "For Linear Regression with Ridge regularization\n",
      "MSE is 0.005145734926702877\n",
      "R2 score is 0.6942658570353146\n",
      "For Linear Regression with Lasso regularization\n",
      "MSE is 0.005169728551461909\n",
      "R2 score is 0.6928402744107118\n"
     ]
    }
   ],
   "source": [
    "# linear regression without regularization \n",
    "from sklearn.linear_model import LinearRegression\n",
    "from sklearn.metrics import r2_score\n",
    "model=LinearRegression()\n",
    "model.fit(X_train, y_train)\n",
    "preds = model.predict(X_test)\n",
    "mse=mean_squared_error(y_test, preds)\n",
    "r2=r2_score(y_test,preds)\n",
    "print(\"For Linear Regression without regularization\")\n",
    "print(\"MSE is \"+str(mse))\n",
    "print(\"R2 score is \"+str(r2))\n",
    "\n",
    "# linear regression with Ridge regularization \n",
    "model=linear_model.Ridge(minAlphaRidge)\n",
    "model.fit(X_train, y_train)\n",
    "preds = model.predict(X_test)\n",
    "mse=mean_squared_error(y_test, preds)\n",
    "r2=r2_score(y_test,preds)\n",
    "print(\"For Linear Regression with Ridge regularization\")\n",
    "print(\"MSE is \"+str(mse))\n",
    "print(\"R2 score is \"+str(r2))\n",
    "\n",
    "\n",
    "# linear regression with Lasso regularization \n",
    "model=linear_model.Lasso(minAlphaLasso)\n",
    "model.fit(X_train, y_train)\n",
    "preds = model.predict(X_test)\n",
    "mse=mean_squared_error(y_test, preds)\n",
    "r2=r2_score(y_test,preds)\n",
    "print(\"For Linear Regression with Lasso regularization\")\n",
    "print(\"MSE is \"+str(mse))\n",
    "print(\"R2 score is \"+str(r2))"
   ]
  },
  {
   "cell_type": "markdown",
   "metadata": {
    "id": "pKq1KERxJw9y"
   },
   "source": [
    "\n",
    "\n",
    "\n",
    "\n",
    "\n",
    "\n",
    "\n",
    "7)(**5 pts**) Train the 3 models and report the metrics with the original data without scaling (3pts). \n",
    "\n",
    "Why do we need to scale the data before regularization (2pts)? \n",
    "\n",
    "## Answer:\n"
   ]
  },
  {
   "cell_type": "code",
   "execution_count": 75,
   "metadata": {},
   "outputs": [
    {
     "name": "stdout",
     "output_type": "stream",
     "text": [
      "For Linear Regression without regularization\n",
      "MSE is 0.004526319242200028\n",
      "R2 score is 0.7310684763186412\n"
     ]
    }
   ],
   "source": [
    "X_train, X_test, y_train, y_test = train_test_split(X, y, test_size=0.25, random_state=50)\n",
    "\n",
    "model=LinearRegression()\n",
    "model.fit(X_train, y_train)\n",
    "preds = model.predict(X_test)\n",
    "mse=mean_squared_error(y_test, preds)\n",
    "r2=r2_score(y_test,preds)\n",
    "print(\"For Linear Regression without regularization\")\n",
    "print(\"MSE is \"+str(mse))\n",
    "print(\"R2 score is \"+str(r2))"
   ]
  },
  {
   "cell_type": "code",
   "execution_count": 76,
   "metadata": {},
   "outputs": [
    {
     "name": "stdout",
     "output_type": "stream",
     "text": [
      "The best alpha based on Cross validation for Lasso Regression is 0.0006135907273413163 and the corresponding MSE is 0.004114762849512675\n",
      "The best alpha based on Cross validation for Ridge Regression is 0.49770235643321137 and the corresponding MSE is 0.004123596074823913\n",
      "For Linear Regression with Ridge regularization\n",
      "MSE is 0.004522294304599159\n",
      "R2 score is 0.7313076182226484\n",
      "For Linear Regression with Lasso regularization\n",
      "MSE is 0.004554495972017524\n",
      "R2 score is 0.7293943542612464\n"
     ]
    }
   ],
   "source": [
    "msescoresLasso=[]\n",
    "msescoresRidge=[]\n",
    "\n",
    "for al in alpha:\n",
    "    lasso=linear_model.Lasso(alpha=al)\n",
    "    ridge=linear_model.Ridge(alpha=al)\n",
    "    cv = KFold(n_splits=5)\n",
    "\n",
    "    # evaluate model\n",
    "    #y_train=np.array(y_train)\n",
    "    i=0\n",
    "    j=0\n",
    "    for train_index, test_index in cv.split(X_train):\n",
    "        X_train_cv, X_test_cv = X_train.iloc[train_index], X_train.iloc[test_index]\n",
    "        y_train_cv, y_test_cv = y_train.iloc[train_index], y_train.iloc[test_index]\n",
    "        lasso.fit(X_train_cv, y_train_cv)\n",
    "        preds = lasso.predict(X_test_cv)\n",
    "        i+=mean_squared_error(y_test_cv, preds)\n",
    "        ridge.fit(X_train_cv, y_train_cv)\n",
    "        preds = ridge.predict(X_test_cv)\n",
    "        j+=mean_squared_error(y_test_cv, preds)\n",
    "    msescoresLasso.append(i/5)\n",
    "    msescoresRidge.append(j/5)\n",
    "        \n",
    "\n",
    "minMSELasso=min(msescoresLasso)\n",
    "minAlphaLasso=alpha[msescoresLasso.index(minMSELasso)]\n",
    "print('The best alpha based on Cross validation for Lasso Regression is ' + str(minAlphaLasso)\\\n",
    "      +' and the corresponding MSE is '+ str(minMSELasso))\n",
    "\n",
    "minMSERidge=min(msescoresRidge)\n",
    "minAlphaRidge=alpha[msescoresRidge.index(minMSERidge)]\n",
    "print('The best alpha based on Cross validation for Ridge Regression is ' + str(minAlphaRidge) +\\\n",
    "      ' and the corresponding MSE is '+ str(minMSERidge))\n",
    "\n",
    "\n",
    "\n",
    "\n",
    "# linear regression with Ridge regularization \n",
    "model=linear_model.Ridge(minAlphaRidge)\n",
    "model.fit(X_train, y_train)\n",
    "preds = model.predict(X_test)\n",
    "mse=mean_squared_error(y_test, preds)\n",
    "r2=r2_score(y_test,preds)\n",
    "print(\"For Linear Regression with Ridge regularization\")\n",
    "print(\"MSE is \"+str(mse))\n",
    "print(\"R2 score is \"+str(r2))\n",
    "\n",
    "\n",
    "# linear regression with Lasso regularization \n",
    "model=linear_model.Lasso(minAlphaLasso)\n",
    "model.fit(X_train, y_train)\n",
    "preds = model.predict(X_test)\n",
    "mse=mean_squared_error(y_test, preds)\n",
    "r2=r2_score(y_test,preds)\n",
    "print(\"For Linear Regression with Lasso regularization\")\n",
    "print(\"MSE is \"+str(mse))\n",
    "print(\"R2 score is \"+str(r2))"
   ]
  },
  {
   "cell_type": "markdown",
   "metadata": {},
   "source": [
    "## Need to scale the data before regularization :\n",
    "\n",
    "We should scale the data before regularization because it ensures that the large values in all the parameters are penalized equally. For example, a feature for height in metres would be penalized much more than another feature in millimetres if the data is not scaled"
   ]
  },
  {
   "cell_type": "code",
   "execution_count": null,
   "metadata": {},
   "outputs": [],
   "source": []
  },
  {
   "cell_type": "code",
   "execution_count": null,
   "metadata": {},
   "outputs": [],
   "source": []
  },
  {
   "cell_type": "code",
   "execution_count": null,
   "metadata": {},
   "outputs": [],
   "source": []
  },
  {
   "cell_type": "code",
   "execution_count": null,
   "metadata": {},
   "outputs": [],
   "source": []
  }
 ],
 "metadata": {
  "colab": {
   "collapsed_sections": [],
   "name": "MIS 382N - HW1.ipynb",
   "provenance": []
  },
  "kernelspec": {
   "display_name": "Python 3",
   "language": "python",
   "name": "python3"
  },
  "language_info": {
   "codemirror_mode": {
    "name": "ipython",
    "version": 3
   },
   "file_extension": ".py",
   "mimetype": "text/x-python",
   "name": "python",
   "nbconvert_exporter": "python",
   "pygments_lexer": "ipython3",
   "version": "3.8.8"
  }
 },
 "nbformat": 4,
 "nbformat_minor": 1
}
